{
 "cells": [
  {
   "cell_type": "markdown",
   "id": "7f79baf9",
   "metadata": {},
   "source": [
    "# ADS 509 Sentiment Assignment\n",
    "\n",
    "This notebook holds the Sentiment Assignment for Module 6 in ADS 509, Applied Text Mining. Work through this notebook, writing code and answering questions where required. \n",
    "\n",
    "In a previous assignment you put together Twitter data and lyrics data on two artists. In this assignment we apply sentiment analysis to those data sets. If, for some reason, you did not complete that previous assignment, data to use for this assignment can be found in the assignment materials section of Blackboard. \n"
   ]
  },
  {
   "cell_type": "markdown",
   "id": "aae8e2e1",
   "metadata": {},
   "source": [
    "## General Assignment Instructions\n",
    "\n",
    "These instructions are included in every assignment, to remind you of the coding standards for the class. Feel free to delete this cell after reading it. \n",
    "\n",
    "One sign of mature code is conforming to a style guide. We recommend the [Google Python Style Guide](https://google.github.io/styleguide/pyguide.html). If you use a different style guide, please include a cell with a link. \n",
    "\n",
    "Your code should be relatively easy-to-read, sensibly commented, and clean. Writing code is a messy process, so please be sure to edit your final submission. Remove any cells that are not needed or parts of cells that contain unnecessary code. Remove inessential `import` statements and make sure that all such statements are moved into the designated cell. \n",
    "\n",
    "Make use of non-code cells for written commentary. These cells should be grammatical and clearly written. In some of these cells you will have questions to answer. The questions will be marked by a \"Q:\" and will have a corresponding \"A:\" spot for you. *Make sure to answer every question marked with a `Q:` for full credit.* \n"
   ]
  },
  {
   "cell_type": "code",
   "execution_count": 2,
   "id": "e2d096b7",
   "metadata": {},
   "outputs": [],
   "source": [
    "import os\n",
    "import re\n",
    "import emoji\n",
    "import pandas as pd\n",
    "import numpy as np\n",
    "import glob\n",
    "\n",
    "from collections import Counter, defaultdict\n",
    "from string import punctuation\n",
    "\n",
    "from nltk.corpus import stopwords\n",
    "\n",
    "sw = stopwords.words(\"english\")"
   ]
  },
  {
   "cell_type": "code",
   "execution_count": 34,
   "id": "6b555ab2",
   "metadata": {},
   "outputs": [],
   "source": [
    "# Add any additional import statements you need here\n",
    "from nltk.corpus import opinion_lexicon\n",
    "from nltk.tokenize import word_tokenize\n",
    "import nltk\n",
    "#nltk.download('opinion_lexicon')\n"
   ]
  },
  {
   "cell_type": "code",
   "execution_count": 4,
   "id": "923b5a86",
   "metadata": {},
   "outputs": [],
   "source": [
    "# change `data_location` to the location of the folder on your machine.\n",
    "data_location = '/Users/ryan_s_dunn/opt/anaconda3/lib/python3.8/posixpath.py'\n",
    "\n",
    "# These subfolders should still work if you correctly stored the \n",
    "# data from the Module 1 assignment\n",
    "twitter_folder = \"twitter/\"\n",
    "lyrics_folder = \"lyrics/\"\n",
    "\n",
    "positive_words_file = \"positive-words.txt\"\n",
    "negative_words_file = \"negative-words.txt\"\n",
    "tidy_text_file = \"tidytext_sentiments.txt\"\n",
    "\n",
    "#lytrics filepath\n",
    "cher_filepath = '/Users/ryan_s_dunn/Documents/USD MS-ADS/Applied Text Mining ADS 509/Module 2/M1 Results/lyrics/cher'\n",
    "robyn_filepath = '/Users/ryan_s_dunn/Documents/USD MS-ADS/Applied Text Mining ADS 509/Module 2/M1 Results/lyrics/robyn'\n",
    "\n",
    "#twitter desc filepath\n",
    "cher_twitter_filepath = '/Users/ryan_s_dunn/Documents/USD MS-ADS/Applied Text Mining ADS 509/Module 2/M1 Results/twitter/cher/cher_followers_data.txt'\n",
    "robyn_twitter_filepath = '/Users/ryan_s_dunn/Documents/USD MS-ADS/Applied Text Mining ADS 509/Module 2/M1 Results/twitter/robyn/robynkonichiwa_followers_data.txt'"
   ]
  },
  {
   "cell_type": "markdown",
   "id": "9d3bf93e",
   "metadata": {},
   "source": [
    "## Data Input\n",
    "\n",
    "Now read in each of the corpora. For the lyrics data, it may be convenient to store the entire contents of the file to make it easier to inspect the titles individually, as you'll do in the last part of the assignment. In the solution, I stored the lyrics data in a dictionary with two dimensions of keys: artist and song. The value was the file contents. A Pandas data frame would work equally well. \n",
    "\n",
    "For the Twitter data, we only need the description field for this assignment. Feel free all the descriptions read it into a data structure. In the solution, I stored the descriptions as a dictionary of lists, with the key being the artist. \n",
    "\n",
    "\n"
   ]
  },
  {
   "cell_type": "code",
   "execution_count": 5,
   "id": "a6bda214",
   "metadata": {},
   "outputs": [],
   "source": [
    "#define function to import all txt files into a datafrmae\n",
    "def import_txt_files(filepath):\n",
    "    #create empty list to store dfs\n",
    "    dfs = []\n",
    "\n",
    "    #iterate over files in the directory\n",
    "    for filename in os.listdir(filepath):\n",
    "        if filename.endswith('.txt'):\n",
    "            #read in .txt file as a df\n",
    "            with open(os.path.join(filepath, filename), 'r') as f:\n",
    "                song_name = f.readline().strip()\n",
    "                song_lyrics = f.read().strip()\n",
    "                df = pd.DataFrame({'song_name': song_name, 'song_lyrics': song_lyrics}, index=[0])\n",
    "                dfs.append(df)\n",
    "\n",
    "    # Concatenate all dataframes into one\n",
    "    final_df = pd.concat(dfs, ignore_index=True)\n",
    "\n",
    "    return final_df\n",
    "\n",
    "#create the lyrics df's from the cher and robyn filepaths\n",
    "cher_lyrics = import_txt_files(cher_filepath)\n",
    "robyn_lyrics = import_txt_files(robyn_filepath)"
   ]
  },
  {
   "cell_type": "code",
   "execution_count": 6,
   "id": "debcac5a",
   "metadata": {},
   "outputs": [],
   "source": [
    "# Read in the twitter data\n",
    "#read in txt file as dataframe\n",
    "def import_desc(filepath):\n",
    "    #read in txt file as dataframe\n",
    "    with open(filepath, 'r') as f:\n",
    "        data = f.read().strip().split('\\n')\n",
    "\n",
    "    #create dataframe with appropriate column names\n",
    "    df = pd.DataFrame([x.split('\\t') for x in data], \n",
    "                      columns=['screen_name', 'name', 'id', 'location', 'followers_count', \n",
    "                               'friends_count', 'description'])\n",
    "\n",
    "    return df\n",
    "\n",
    "#create the twitter df's from the cher and robyn filepaths\n",
    "cher_twitter = import_desc(cher_twitter_filepath)\n",
    "robyn_twitter = import_desc(robyn_twitter_filepath)"
   ]
  },
  {
   "cell_type": "code",
   "execution_count": 7,
   "id": "1e10ee80",
   "metadata": {},
   "outputs": [],
   "source": [
    "#cher_twitter.head()"
   ]
  },
  {
   "cell_type": "code",
   "execution_count": 8,
   "id": "d50f1a91",
   "metadata": {},
   "outputs": [],
   "source": [
    "#robyn_twitter.head()"
   ]
  },
  {
   "cell_type": "code",
   "execution_count": 9,
   "id": "af9e7a4b",
   "metadata": {},
   "outputs": [],
   "source": [
    "# Read in the positive and negative words and the\n",
    "# tidytext sentiment. Store these so that the positive\n",
    "# words are associated with a score of +1 and negative words\n",
    "# are associated with a score of -1. You can use a dataframe or a \n",
    "# dictionary for this."
   ]
  },
  {
   "cell_type": "code",
   "execution_count": 10,
   "id": "f80017b6",
   "metadata": {},
   "outputs": [],
   "source": [
    "#read in the positive words\n",
    "pos_file = '/Users/ryan_s_dunn/Documents/USD MS-ADS/Applied Text Mining ADS 509/Module 6/tm-sentiment-main/positive-words.txt'\n",
    "neg_file = '/Users/ryan_s_dunn/Documents/USD MS-ADS/Applied Text Mining ADS 509/Module 6/tm-sentiment-main/negative-words.txt'\n",
    " "
   ]
  },
  {
   "cell_type": "code",
   "execution_count": 11,
   "id": "4dcb724c",
   "metadata": {},
   "outputs": [
    {
     "data": {
      "text/html": [
       "<div>\n",
       "<style scoped>\n",
       "    .dataframe tbody tr th:only-of-type {\n",
       "        vertical-align: middle;\n",
       "    }\n",
       "\n",
       "    .dataframe tbody tr th {\n",
       "        vertical-align: top;\n",
       "    }\n",
       "\n",
       "    .dataframe thead th {\n",
       "        text-align: right;\n",
       "    }\n",
       "</style>\n",
       "<table border=\"1\" class=\"dataframe\">\n",
       "  <thead>\n",
       "    <tr style=\"text-align: right;\">\n",
       "      <th></th>\n",
       "      <th>word</th>\n",
       "      <th>rating</th>\n",
       "    </tr>\n",
       "  </thead>\n",
       "  <tbody>\n",
       "  </tbody>\n",
       "</table>\n",
       "</div>"
      ],
      "text/plain": [
       "Empty DataFrame\n",
       "Columns: [word, rating]\n",
       "Index: []"
      ]
     },
     "execution_count": 11,
     "metadata": {},
     "output_type": "execute_result"
    }
   ],
   "source": [
    "#import the positive words\n",
    "def pos_words(filepath):\n",
    "    # Read in the text file as a string\n",
    "    with open(filepath, 'r') as f:\n",
    "        text = f.read()\n",
    "\n",
    "    # Split the text into individual words\n",
    "    words = text.split()\n",
    "\n",
    "    # Create a dataframe with the words as rows and a \"rating\" column with value 1\n",
    "    df = pd.DataFrame(words, columns=['word'])\n",
    "    df['rating'] = 1\n",
    "    #citation:\n",
    "    # Minqing Hu and Bing Liu. \"Mining and Summarizing Customer Reviews.\" \n",
    "    # Proceedings of the ACM SIGKDD International Conference on Knowledge \n",
    "    # Discovery and Data Mining (KDD-2004), Aug 22-25, 2004, Seattle, \n",
    "    # Washington, USA, \n",
    "    return df\n",
    "\n",
    "#create the positive df\n",
    "pos_df = pos_words(pos_file)\n",
    "pos_df.head(0)"
   ]
  },
  {
   "cell_type": "code",
   "execution_count": 12,
   "id": "99e9d824",
   "metadata": {},
   "outputs": [
    {
     "data": {
      "text/html": [
       "<div>\n",
       "<style scoped>\n",
       "    .dataframe tbody tr th:only-of-type {\n",
       "        vertical-align: middle;\n",
       "    }\n",
       "\n",
       "    .dataframe tbody tr th {\n",
       "        vertical-align: top;\n",
       "    }\n",
       "\n",
       "    .dataframe thead th {\n",
       "        text-align: right;\n",
       "    }\n",
       "</style>\n",
       "<table border=\"1\" class=\"dataframe\">\n",
       "  <thead>\n",
       "    <tr style=\"text-align: right;\">\n",
       "      <th></th>\n",
       "      <th>word</th>\n",
       "      <th>rating</th>\n",
       "    </tr>\n",
       "  </thead>\n",
       "  <tbody>\n",
       "  </tbody>\n",
       "</table>\n",
       "</div>"
      ],
      "text/plain": [
       "Empty DataFrame\n",
       "Columns: [word, rating]\n",
       "Index: []"
      ]
     },
     "execution_count": 12,
     "metadata": {},
     "output_type": "execute_result"
    }
   ],
   "source": [
    "#import the negative words\n",
    "def neg_words(filepath):\n",
    "    # Read in the text file as a string\n",
    "    with open(filepath, 'r') as f:\n",
    "        text = f.read()\n",
    "\n",
    "    # Split the text into individual words\n",
    "    words = text.split()\n",
    "\n",
    "    # Create a dataframe with the words as rows and a \"rating\" column with value 1\n",
    "    df = pd.DataFrame(words, columns=['word'])\n",
    "    df['rating'] = -1\n",
    "    #citation:\n",
    "    # Minqing Hu and Bing Liu. \"Mining and Summarizing Customer Reviews.\" \n",
    "    # Proceedings of the ACM SIGKDD International Conference on Knowledge \n",
    "    # Discovery and Data Mining (KDD-2004), Aug 22-25, 2004, Seattle, \n",
    "    # Washington, USA, \n",
    "    return df\n",
    "\n",
    "#create the negative df\n",
    "neg_df = neg_words(neg_file)\n",
    "neg_df.head(0)"
   ]
  },
  {
   "cell_type": "code",
   "execution_count": 13,
   "id": "d1ca4102",
   "metadata": {},
   "outputs": [
    {
     "data": {
      "text/html": [
       "<div>\n",
       "<style scoped>\n",
       "    .dataframe tbody tr th:only-of-type {\n",
       "        vertical-align: middle;\n",
       "    }\n",
       "\n",
       "    .dataframe tbody tr th {\n",
       "        vertical-align: top;\n",
       "    }\n",
       "\n",
       "    .dataframe thead th {\n",
       "        text-align: right;\n",
       "    }\n",
       "</style>\n",
       "<table border=\"1\" class=\"dataframe\">\n",
       "  <thead>\n",
       "    <tr style=\"text-align: right;\">\n",
       "      <th></th>\n",
       "      <th>word</th>\n",
       "      <th>sentiment</th>\n",
       "      <th>lexicon</th>\n",
       "    </tr>\n",
       "  </thead>\n",
       "  <tbody>\n",
       "    <tr>\n",
       "      <th>0</th>\n",
       "      <td>word</td>\n",
       "      <td>sentiment</td>\n",
       "      <td>lexicon</td>\n",
       "    </tr>\n",
       "    <tr>\n",
       "      <th>1</th>\n",
       "      <td>abandon</td>\n",
       "      <td>negative</td>\n",
       "      <td>nrc</td>\n",
       "    </tr>\n",
       "  </tbody>\n",
       "</table>\n",
       "</div>"
      ],
      "text/plain": [
       "      word  sentiment  lexicon\n",
       "0     word  sentiment  lexicon\n",
       "1  abandon   negative      nrc"
      ]
     },
     "execution_count": 13,
     "metadata": {},
     "output_type": "execute_result"
    }
   ],
   "source": [
    "#import the tidytext_sentiments file\n",
    "tidy_file = '/Users/ryan_s_dunn/Documents/USD MS-ADS/Applied Text Mining ADS 509/Module 6/tm-sentiment-main/tidytext_sentiments.txt'\n",
    "\n",
    "#read in txt file as dataframe\n",
    "def tidy_function(filepath):\n",
    "    #read in txt file as dataframe\n",
    "    with open(filepath, 'r') as f:\n",
    "        data = f.read().strip().split('\\n')\n",
    "\n",
    "    #create dataframe with appropriate column names\n",
    "    df = pd.DataFrame([x.split('\\t') for x in data], \n",
    "                      columns=['word','sentiment','lexicon'])\n",
    "    return df\n",
    "\n",
    "#create the tidy_df dataframe\n",
    "tidy_df = tidy_function(tidy_file)\n",
    "tidy_df.head(2)\n"
   ]
  },
  {
   "cell_type": "markdown",
   "id": "6a5f3b12",
   "metadata": {},
   "source": [
    "## Sentiment Analysis on Songs\n",
    "\n",
    "In this section, score the sentiment for all the songs for both artists in your data set. Score the sentiment by manually calculating the sentiment using the combined lexicons provided in this repository. \n",
    "\n",
    "After you have calculated these sentiments, answer the questions at the end of this section.\n"
   ]
  },
  {
   "cell_type": "code",
   "execution_count": 14,
   "id": "2e976723",
   "metadata": {},
   "outputs": [],
   "source": [
    "#change column names in each lyrics df\n",
    "cher_lyrics.rename(columns={\"song_lyrics\": \"text\"}, inplace = True)\n",
    "robyn_lyrics.rename(columns={\"song_lyrics\": \"text\"}, inplace = True)"
   ]
  },
  {
   "cell_type": "code",
   "execution_count": 15,
   "id": "664f8d8f",
   "metadata": {},
   "outputs": [],
   "source": [
    "#create the pos and neg scores w/ word dictionary\n",
    "pos_score = 1\n",
    "neg_score = -1\n",
    "word_dict = {}\n",
    "\n",
    "#positive word function\n",
    "#for word in opinion_lexicon.positive(): #calls library directly\n",
    "for word in pos_df['word']:\n",
    "    word_dict[word] = pos_score\n",
    "\n",
    "#negative word function\n",
    "#for word in opinion_lexicon.negative(): #calls library directly\n",
    "for word in neg_df['word']:\n",
    "    word_dict[word] = neg_score\n",
    "\n",
    "#calculate the sentiment function\n",
    "def bing_liu_score(text):\n",
    "    sentiment_score = 0 \n",
    "    bag_of_words = word_tokenize(text.lower())\n",
    "    for word in bag_of_words:\n",
    "        if word in word_dict:\n",
    "            sentiment_score += word_dict[word]\n",
    "    return sentiment_score / len(bag_of_words)"
   ]
  },
  {
   "cell_type": "code",
   "execution_count": 16,
   "id": "2283138d",
   "metadata": {},
   "outputs": [],
   "source": [
    "#apply the function to both lyrics dataframes\n",
    "cher_lyrics['Bing_Liu_Score'] = cher_lyrics['text'].apply(bing_liu_score)\n",
    "robyn_lyrics['Bing_Liu_Score'] = robyn_lyrics['text'].apply(bing_liu_score)"
   ]
  },
  {
   "cell_type": "code",
   "execution_count": 17,
   "id": "f7de5c9d",
   "metadata": {},
   "outputs": [
    {
     "data": {
      "text/html": [
       "<div>\n",
       "<style scoped>\n",
       "    .dataframe tbody tr th:only-of-type {\n",
       "        vertical-align: middle;\n",
       "    }\n",
       "\n",
       "    .dataframe tbody tr th {\n",
       "        vertical-align: top;\n",
       "    }\n",
       "\n",
       "    .dataframe thead th {\n",
       "        text-align: right;\n",
       "    }\n",
       "</style>\n",
       "<table border=\"1\" class=\"dataframe\">\n",
       "  <thead>\n",
       "    <tr style=\"text-align: right;\">\n",
       "      <th></th>\n",
       "      <th>song_name</th>\n",
       "      <th>text</th>\n",
       "      <th>Bing_Liu_Score</th>\n",
       "    </tr>\n",
       "  </thead>\n",
       "  <tbody>\n",
       "    <tr>\n",
       "      <th>0</th>\n",
       "      <td>\"Come And Stay With Me\"</td>\n",
       "      <td>I'll send away all my false pride\\nAnd I'll fo...</td>\n",
       "      <td>0.017857</td>\n",
       "    </tr>\n",
       "    <tr>\n",
       "      <th>1</th>\n",
       "      <td>\"Pirate\"</td>\n",
       "      <td>He'll sail on with the summer wind\\nThat blows...</td>\n",
       "      <td>0.038710</td>\n",
       "    </tr>\n",
       "    <tr>\n",
       "      <th>2</th>\n",
       "      <td>\"Stars\"</td>\n",
       "      <td>I was never one for saying what I really feel\\...</td>\n",
       "      <td>-0.003058</td>\n",
       "    </tr>\n",
       "    <tr>\n",
       "      <th>3</th>\n",
       "      <td>\"These Days\"</td>\n",
       "      <td>Well I've been out walking \\nAnd I don't do th...</td>\n",
       "      <td>0.005682</td>\n",
       "    </tr>\n",
       "    <tr>\n",
       "      <th>4</th>\n",
       "      <td>\"Love So High\"</td>\n",
       "      <td>Every morning I would wake up\\nAnd I'd tie the...</td>\n",
       "      <td>0.051136</td>\n",
       "    </tr>\n",
       "  </tbody>\n",
       "</table>\n",
       "</div>"
      ],
      "text/plain": [
       "                 song_name                                               text  \\\n",
       "0  \"Come And Stay With Me\"  I'll send away all my false pride\\nAnd I'll fo...   \n",
       "1                 \"Pirate\"  He'll sail on with the summer wind\\nThat blows...   \n",
       "2                  \"Stars\"  I was never one for saying what I really feel\\...   \n",
       "3             \"These Days\"  Well I've been out walking \\nAnd I don't do th...   \n",
       "4           \"Love So High\"  Every morning I would wake up\\nAnd I'd tie the...   \n",
       "\n",
       "   Bing_Liu_Score  \n",
       "0        0.017857  \n",
       "1        0.038710  \n",
       "2       -0.003058  \n",
       "3        0.005682  \n",
       "4        0.051136  "
      ]
     },
     "execution_count": 17,
     "metadata": {},
     "output_type": "execute_result"
    }
   ],
   "source": [
    "cher_lyrics.head()"
   ]
  },
  {
   "cell_type": "code",
   "execution_count": 18,
   "id": "b23fb949",
   "metadata": {},
   "outputs": [
    {
     "name": "stdout",
     "output_type": "stream",
     "text": [
      "Cher avg sentiment is: 0.013219007802624888\n",
      "Robyn avg sentiment is: 0.009098276416105758\n"
     ]
    }
   ],
   "source": [
    "#fine the avg sentiment by lyrics by each artist\n",
    "print(\"Cher avg sentiment is:\", cher_lyrics.loc[:, 'Bing_Liu_Score'].mean())\n",
    "print(\"Robyn avg sentiment is:\", robyn_lyrics.loc[:, 'Bing_Liu_Score'].mean())"
   ]
  },
  {
   "cell_type": "markdown",
   "id": "1f8334f4",
   "metadata": {},
   "source": [
    "### Questions\n",
    "\n",
    "Q: Overall, which artist has the higher average sentiment per song? \n",
    "\n",
    "A: Cher has the overall more positive average sentiment by song. \n",
    "\n",
    "---\n",
    "\n",
    "Q: For your first artist, what are the three songs that have the highest and lowest sentiments? Print the lyrics of those songs to the screen. What do you think is driving the sentiment score? \n",
    "\n",
    "* Highest Positive:  \"My Love\", \"Move Me\", \"Love and Understanding\"\n",
    "* Highest Negative:  \"Cry Myself to Sleep\", \"Outrageous\", \"I Walk On Guilded Splinters\"\n",
    "\n",
    "`See the below code output for the song lyrics`\n",
    "\n",
    "---\n",
    "\n",
    "Q: For your second artist, what are the three songs that have the highest and lowest sentiments? Print the lyrics of those songs to the screen. What do you think is driving the sentiment score? \n",
    "\n",
    "* Highest Positive:  \"Love is Free\", \"Indestructable\", \"Indestructible (Acoustic Version)\"\n",
    "* Highest Negative:  \"Don't Fucking Tell Me What To Do\", \"Criminal Intent\", \"Crash And Burn Girl\"\n",
    "\n",
    "`See the below code output for the song lyrics`\n",
    "\n",
    "---\n",
    "\n",
    "Q: Plot the distributions of the sentiment scores for both artists. You can use `seaborn` to plot densities or plot histograms in matplotlib.\n",
    "\n",
    "`See the below code output for the histograms`\n",
    "\n",
    "\n"
   ]
  },
  {
   "cell_type": "markdown",
   "id": "94930430",
   "metadata": {},
   "source": [
    "#### Cher Top 3 Positive and Negative Song List:"
   ]
  },
  {
   "cell_type": "code",
   "execution_count": 19,
   "id": "c67a773f",
   "metadata": {},
   "outputs": [],
   "source": [
    "#change the max_colwidth for the print statements\n",
    "pd.set_option('max_colwidth', 1000)\n",
    "\n",
    "#first artist (Cher) sorted values\n",
    "cher_lyrics_top3 = cher_lyrics.sort_values('Bing_Liu_Score', ascending=False)\n",
    "cher_lyrics_bottom3 = cher_lyrics.sort_values('Bing_Liu_Score', ascending=True)"
   ]
  },
  {
   "cell_type": "code",
   "execution_count": 20,
   "id": "25807a70",
   "metadata": {},
   "outputs": [
    {
     "data": {
      "text/html": [
       "<div>\n",
       "<style scoped>\n",
       "    .dataframe tbody tr th:only-of-type {\n",
       "        vertical-align: middle;\n",
       "    }\n",
       "\n",
       "    .dataframe tbody tr th {\n",
       "        vertical-align: top;\n",
       "    }\n",
       "\n",
       "    .dataframe thead th {\n",
       "        text-align: right;\n",
       "    }\n",
       "</style>\n",
       "<table border=\"1\" class=\"dataframe\">\n",
       "  <thead>\n",
       "    <tr style=\"text-align: right;\">\n",
       "      <th></th>\n",
       "      <th>song_name</th>\n",
       "      <th>text</th>\n",
       "      <th>Bing_Liu_Score</th>\n",
       "    </tr>\n",
       "  </thead>\n",
       "  <tbody>\n",
       "    <tr>\n",
       "      <th>15</th>\n",
       "      <td>\"My Love\"</td>\n",
       "      <td>When I go away\\nI know my heart can stay with my love\\nIt's understood\\nEverywhere with my love\\nMy love does it good, whoa\\nMy love, oh only my love\\nMy love does it good\\n\\nAnd when the cupboard's bare\\nI'll still find something there with my love\\nIt's understood\\nEverywhere with my love\\nMy love does it so good, whoa\\nMy love, oh only my love\\nMy love does it good\\n\\nOnly my love, oh only my love\\nOnly my love, hold the other things to me\\nOh, only my love, oh only my love\\nOnly my love does it good to me\\n\\nEverywhere with my love\\nDon't you see my love\\nIt does it so good\\nOh, only my love, only my love\\nMy love does it good\\n\\nDon't ever ask me why\\nI never say \"good-bye\" to my love\\nIt's understood\\n'Cause everywhere with my love\\nMy love does it good, whoa\\nOnly my love, oh only my love\\nMy love does it good\\n\\nOh only my love\\nOnly my love does it good to me,whoa</td>\n",
       "      <td>0.221675</td>\n",
       "    </tr>\n",
       "    <tr>\n",
       "      <th>137</th>\n",
       "      <td>\"Move Me\"</td>\n",
       "      <td>Move me\\nLove the way you move me, baby\\nGroove me\\nLove the way you groove me\\n\\nMaking love with you\\nLittle things that you do\\nMake me feel so good inside\\n\\nOh oh do me\\nC'mon, c'mon, do me\\nBaby\\nSoothe me\\nLove the way you soothe me\\nI love I love I love I love I love I love\\nLove the way you do\\n\\nMove me\\nLove the way you move me, baby\\nGroove me\\nLove the way you groove me\\n\\nMaking love with you\\nLittle things that you do\\nMake me feel so good inside\\n\\nI love, I love, I love the way you move me\\nKeep on, keep on doin' it\\nI love, I love, I love the way you move me\\nKeep on, keep on doin' it\\nI love, I love, I love the way you move me\\nKeep on, keep on, doin' it\\n[Fade out]</td>\n",
       "      <td>0.158824</td>\n",
       "    </tr>\n",
       "    <tr>\n",
       "      <th>146</th>\n",
       "      <td>\"Love And Understanding\"</td>\n",
       "      <td>Here, here in this world\\nWhere do we go? Where can we turn?\\nWhen we need some love\\nIt seems that love just can't be found\\nWhere, where do we stand?\\nWhen love's supply don't meet love's demand\\n\\nWe got enough stars to light the sky at night\\nEnough sun to make to make the whole world bright\\nWe got more than enough\\nBut there's one thing there's just not enough of\\n\\nNot enough love and understanding\\nWe could use some love to ease these troubled times\\nNot enough love and understanding\\nWhy, oh why?\\n\\nSpend all of our time\\nBuilding buildings up to the sky\\nReaching everywhere\\nBut where we need to reach the most\\nHearts never can win\\nOh, in this race, this race that we're in\\n\\nWe've got enough cars to drive around the world\\nEnough planes to take us anywhere\\nWe got more than enough\\nBut there's one thing there's just not enough of\\n\\nNot enough love and understanding\\nWe could use some love to ease these troubled times\\nNot enough love and understanding\\nWhy, oh why?\\n\\n...</td>\n",
       "      <td>0.140523</td>\n",
       "    </tr>\n",
       "  </tbody>\n",
       "</table>\n",
       "</div>"
      ],
      "text/plain": [
       "                    song_name  \\\n",
       "15                  \"My Love\"   \n",
       "137                 \"Move Me\"   \n",
       "146  \"Love And Understanding\"   \n",
       "\n",
       "                                                                                                                                                                                                                                                                                                                                                                                                                                                                                                                                                                                                                                                                                                                                                                                                                                                                                                                                                                                                                                        text  \\\n",
       "15                                                                                                                     When I go away\\nI know my heart can stay with my love\\nIt's understood\\nEverywhere with my love\\nMy love does it good, whoa\\nMy love, oh only my love\\nMy love does it good\\n\\nAnd when the cupboard's bare\\nI'll still find something there with my love\\nIt's understood\\nEverywhere with my love\\nMy love does it so good, whoa\\nMy love, oh only my love\\nMy love does it good\\n\\nOnly my love, oh only my love\\nOnly my love, hold the other things to me\\nOh, only my love, oh only my love\\nOnly my love does it good to me\\n\\nEverywhere with my love\\nDon't you see my love\\nIt does it so good\\nOh, only my love, only my love\\nMy love does it good\\n\\nDon't ever ask me why\\nI never say \"good-bye\" to my love\\nIt's understood\\n'Cause everywhere with my love\\nMy love does it good, whoa\\nOnly my love, oh only my love\\nMy love does it good\\n\\nOh only my love\\nOnly my love does it good to me,whoa   \n",
       "137                                                                                                                                                                                                                                                                                                                    Move me\\nLove the way you move me, baby\\nGroove me\\nLove the way you groove me\\n\\nMaking love with you\\nLittle things that you do\\nMake me feel so good inside\\n\\nOh oh do me\\nC'mon, c'mon, do me\\nBaby\\nSoothe me\\nLove the way you soothe me\\nI love I love I love I love I love I love\\nLove the way you do\\n\\nMove me\\nLove the way you move me, baby\\nGroove me\\nLove the way you groove me\\n\\nMaking love with you\\nLittle things that you do\\nMake me feel so good inside\\n\\nI love, I love, I love the way you move me\\nKeep on, keep on doin' it\\nI love, I love, I love the way you move me\\nKeep on, keep on doin' it\\nI love, I love, I love the way you move me\\nKeep on, keep on, doin' it\\n[Fade out]   \n",
       "146  Here, here in this world\\nWhere do we go? Where can we turn?\\nWhen we need some love\\nIt seems that love just can't be found\\nWhere, where do we stand?\\nWhen love's supply don't meet love's demand\\n\\nWe got enough stars to light the sky at night\\nEnough sun to make to make the whole world bright\\nWe got more than enough\\nBut there's one thing there's just not enough of\\n\\nNot enough love and understanding\\nWe could use some love to ease these troubled times\\nNot enough love and understanding\\nWhy, oh why?\\n\\nSpend all of our time\\nBuilding buildings up to the sky\\nReaching everywhere\\nBut where we need to reach the most\\nHearts never can win\\nOh, in this race, this race that we're in\\n\\nWe've got enough cars to drive around the world\\nEnough planes to take us anywhere\\nWe got more than enough\\nBut there's one thing there's just not enough of\\n\\nNot enough love and understanding\\nWe could use some love to ease these troubled times\\nNot enough love and understanding\\nWhy, oh why?\\n\\n...   \n",
       "\n",
       "     Bing_Liu_Score  \n",
       "15         0.221675  \n",
       "137        0.158824  \n",
       "146        0.140523  "
      ]
     },
     "execution_count": 20,
     "metadata": {},
     "output_type": "execute_result"
    }
   ],
   "source": [
    "##print the song name, lyrics and sentiment score of top 3 pos\n",
    "cher_lyrics_top3.head(3)"
   ]
  },
  {
   "cell_type": "code",
   "execution_count": 21,
   "id": "e782794b",
   "metadata": {},
   "outputs": [
    {
     "data": {
      "text/html": [
       "<div>\n",
       "<style scoped>\n",
       "    .dataframe tbody tr th:only-of-type {\n",
       "        vertical-align: middle;\n",
       "    }\n",
       "\n",
       "    .dataframe tbody tr th {\n",
       "        vertical-align: top;\n",
       "    }\n",
       "\n",
       "    .dataframe thead th {\n",
       "        text-align: right;\n",
       "    }\n",
       "</style>\n",
       "<table border=\"1\" class=\"dataframe\">\n",
       "  <thead>\n",
       "    <tr style=\"text-align: right;\">\n",
       "      <th></th>\n",
       "      <th>song_name</th>\n",
       "      <th>text</th>\n",
       "      <th>Bing_Liu_Score</th>\n",
       "    </tr>\n",
       "  </thead>\n",
       "  <tbody>\n",
       "    <tr>\n",
       "      <th>240</th>\n",
       "      <td>\"Cry Myself To Sleep\"</td>\n",
       "      <td>Every night, I lay my head\\nOn my pillow on my bed\\nAnd I just cry myself to sleep\\n\\nI know I shouldn't cry\\nOver words that were all lies\\nBut still, I cry myself to sleep\\n\\nEach night, I fight the tears\\nBut still they fall\\nAnd all the memories linger on\\nHe's gone, he's gone\\nAnd now there's nothing but to cry\\nCry myself to sleep\\nStill, I cry myself to sleep\\n\\nEach night, I fight those tears\\nBut still, they fall\\nAnd all the memories linger on\\nHe's gone, he's gone, he's gone\\nAnd now there's nothing but to cry\\nAh, cry myself to sleep\\nAh, cry myself to sleep\\nAh, cry myself to sleep</td>\n",
       "      <td>-0.094203</td>\n",
       "    </tr>\n",
       "    <tr>\n",
       "      <th>158</th>\n",
       "      <td>\"Outrageous\"</td>\n",
       "      <td>Outrageous, outrageous\\n(They say) I'm outrageous\\nIt's the rage\\n\\nI'm gonna wear what I will and spend some\\nAnd I will be dress to kill don'tcha know\\nAnd when the lights come up\\nI'm ready I'm ready\\nTo put on a show with class\\nAnd if I clash it's cause I want to\\nWhat a show and I want everyone to know\\nThey're gonna fly up, get an eyeful\\nEverything that's craved from me\\nI'm gonna be, I'm gonna be outrageous\\n\\nOutrageous\\n(They say) I'm outrageous\\nIt's the rage it's the rage\\n\\nWith my long black hair hanging way down to my\\nAsk me no questions and I'll tell you no lies\\nDon't tell me what to do don't tell me what to be\\nSee I don't trust anybody else's traits about make-up and me\\n\\nWell in my show I let everything go\\nIs what you want is whatcha wanna see from me\\nBut when the curtain comes down\\nAnd you're on your way back home\\nI change into my jeans that are split at the seam\\nI grab my funky black jacket and make quite a racket\\nYou drive like you're an outlaw\\nCaus...</td>\n",
       "      <td>-0.082143</td>\n",
       "    </tr>\n",
       "    <tr>\n",
       "      <th>171</th>\n",
       "      <td>\"I Walk On Guilded Splinters\"</td>\n",
       "      <td>Some people think they jive me, but I know they must be crazy\\nThey can't see their misfortune, or else they're just too lazy\\nJe suie le grand zombie\\nWith my yellow chaffen of choisen\\nAin't afraid of no tomcat and gonna fill my guts with poison\\nI walk through the fire\\nAnd I'll fly through the smoke\\nI wanna see my enemies\\nOn the end of my rope\\nWalk on pins and needles\\nAnd I see what they can do\\nWalk on guilded splinters\\nWith the King of the Zulu\\n\\nCome to me, get it, come, come\\nWalk on guilded splinters\\nCome to me, get it, come, come\\nWalk on guilded splinters\\nTill I burn up\\nTill I burn up\\nTill I burn up\\nTill I burn up\\n\\nWhen I roll out in my coffin\\nDrink poison in my chalice\\nPride begins to fade\\nAnd you all feel my malice\\nI put gris-gris on your doorstep\\nSo soon you be in the gutter\\nI'll make your heart melt like butter\\nI say I can make you stutter\\n\\nCome to me, get it, come, come\\nWalk on guilded splinters\\nCome to me, get it, come, come\\nWalk on guilded...</td>\n",
       "      <td>-0.076923</td>\n",
       "    </tr>\n",
       "  </tbody>\n",
       "</table>\n",
       "</div>"
      ],
      "text/plain": [
       "                         song_name  \\\n",
       "240          \"Cry Myself To Sleep\"   \n",
       "158                   \"Outrageous\"   \n",
       "171  \"I Walk On Guilded Splinters\"   \n",
       "\n",
       "                                                                                                                                                                                                                                                                                                                                                                                                                                                                                                                                                                                                                                                                                                                                                                                                                                                                                                                                                                                                                                        text  \\\n",
       "240                                                                                                                                                                                                                                                                                                                                                                                                                Every night, I lay my head\\nOn my pillow on my bed\\nAnd I just cry myself to sleep\\n\\nI know I shouldn't cry\\nOver words that were all lies\\nBut still, I cry myself to sleep\\n\\nEach night, I fight the tears\\nBut still they fall\\nAnd all the memories linger on\\nHe's gone, he's gone\\nAnd now there's nothing but to cry\\nCry myself to sleep\\nStill, I cry myself to sleep\\n\\nEach night, I fight those tears\\nBut still, they fall\\nAnd all the memories linger on\\nHe's gone, he's gone, he's gone\\nAnd now there's nothing but to cry\\nAh, cry myself to sleep\\nAh, cry myself to sleep\\nAh, cry myself to sleep   \n",
       "158  Outrageous, outrageous\\n(They say) I'm outrageous\\nIt's the rage\\n\\nI'm gonna wear what I will and spend some\\nAnd I will be dress to kill don'tcha know\\nAnd when the lights come up\\nI'm ready I'm ready\\nTo put on a show with class\\nAnd if I clash it's cause I want to\\nWhat a show and I want everyone to know\\nThey're gonna fly up, get an eyeful\\nEverything that's craved from me\\nI'm gonna be, I'm gonna be outrageous\\n\\nOutrageous\\n(They say) I'm outrageous\\nIt's the rage it's the rage\\n\\nWith my long black hair hanging way down to my\\nAsk me no questions and I'll tell you no lies\\nDon't tell me what to do don't tell me what to be\\nSee I don't trust anybody else's traits about make-up and me\\n\\nWell in my show I let everything go\\nIs what you want is whatcha wanna see from me\\nBut when the curtain comes down\\nAnd you're on your way back home\\nI change into my jeans that are split at the seam\\nI grab my funky black jacket and make quite a racket\\nYou drive like you're an outlaw\\nCaus...   \n",
       "171  Some people think they jive me, but I know they must be crazy\\nThey can't see their misfortune, or else they're just too lazy\\nJe suie le grand zombie\\nWith my yellow chaffen of choisen\\nAin't afraid of no tomcat and gonna fill my guts with poison\\nI walk through the fire\\nAnd I'll fly through the smoke\\nI wanna see my enemies\\nOn the end of my rope\\nWalk on pins and needles\\nAnd I see what they can do\\nWalk on guilded splinters\\nWith the King of the Zulu\\n\\nCome to me, get it, come, come\\nWalk on guilded splinters\\nCome to me, get it, come, come\\nWalk on guilded splinters\\nTill I burn up\\nTill I burn up\\nTill I burn up\\nTill I burn up\\n\\nWhen I roll out in my coffin\\nDrink poison in my chalice\\nPride begins to fade\\nAnd you all feel my malice\\nI put gris-gris on your doorstep\\nSo soon you be in the gutter\\nI'll make your heart melt like butter\\nI say I can make you stutter\\n\\nCome to me, get it, come, come\\nWalk on guilded splinters\\nCome to me, get it, come, come\\nWalk on guilded...   \n",
       "\n",
       "     Bing_Liu_Score  \n",
       "240       -0.094203  \n",
       "158       -0.082143  \n",
       "171       -0.076923  "
      ]
     },
     "execution_count": 21,
     "metadata": {},
     "output_type": "execute_result"
    }
   ],
   "source": [
    "##print the song name, lyrics and sentiment score of top 3 neg\n",
    "cher_lyrics_bottom3.head(3)"
   ]
  },
  {
   "cell_type": "markdown",
   "id": "e08a5014",
   "metadata": {},
   "source": [
    "#### Robyn Top 3 Positive and Negative Song List:"
   ]
  },
  {
   "cell_type": "code",
   "execution_count": 22,
   "id": "3b845861",
   "metadata": {},
   "outputs": [],
   "source": [
    "#second artist (Robyn) sorted values\n",
    "robyn_lyrics_top3 = robyn_lyrics.sort_values('Bing_Liu_Score', ascending=False)\n",
    "robyn_lyrics_bottom3 = robyn_lyrics.sort_values('Bing_Liu_Score', ascending=True)"
   ]
  },
  {
   "cell_type": "code",
   "execution_count": 23,
   "id": "90eade12",
   "metadata": {},
   "outputs": [
    {
     "data": {
      "text/html": [
       "<div>\n",
       "<style scoped>\n",
       "    .dataframe tbody tr th:only-of-type {\n",
       "        vertical-align: middle;\n",
       "    }\n",
       "\n",
       "    .dataframe tbody tr th {\n",
       "        vertical-align: top;\n",
       "    }\n",
       "\n",
       "    .dataframe thead th {\n",
       "        text-align: right;\n",
       "    }\n",
       "</style>\n",
       "<table border=\"1\" class=\"dataframe\">\n",
       "  <thead>\n",
       "    <tr style=\"text-align: right;\">\n",
       "      <th></th>\n",
       "      <th>song_name</th>\n",
       "      <th>text</th>\n",
       "      <th>Bing_Liu_Score</th>\n",
       "    </tr>\n",
       "  </thead>\n",
       "  <tbody>\n",
       "    <tr>\n",
       "      <th>21</th>\n",
       "      <td>\"Love Is Free\"</td>\n",
       "      <td>Free\\nLove is free, baby\\nFree\\nLove is free, baby\\nBoom boom boom boom boom chica boom\\nLet me give it to you, baby\\nChica boom chica boom chica boom\\nChica boom chica boom chica boom\\nFree\\nLove is free, baby\\nFree\\nLove is free, baby\\nBoom boom boom boom boom chica boom\\nLet me give it to you, baby\\n\\nI'ma give it to you, baby\\nI'ma give it when I'm ready\\nSome lose, some steady\\nSome light, some heavy\\nIt's all over this city\\nSometimes in the ugly, sometimes in the pretty\\nYou never know where you get it cause you can't control it and you can't unfold it, slow down\\n\\nI'ma give it to you, baby\\nI'ma give it when I'm ready\\nSome lose, some steady\\nSome light, some heavy\\nIt's all over this city\\nSometimes in the ugly, sometimes in the pretty\\nYou never know where you get it cause you can't control it and you can't unfold it, slow down\\n\\nFree\\nLove is free, baby\\nFree\\nLove is free, baby\\nBoom boom boom boom boom chica boom\\nLet me give it to you, baby\\nYeah! Yeah! Yeah! Yeah!\\...</td>\n",
       "      <td>0.178253</td>\n",
       "    </tr>\n",
       "    <tr>\n",
       "      <th>73</th>\n",
       "      <td>\"Indestructible\"</td>\n",
       "      <td>I'm going backwards through time at the speed of light\\nI'm yours, you're mine\\nTwo satellites\\nNot alone\\nNo, we're not alone\\n\\nA freeze-frame of your eye in the strobe light\\nSweat dripping down from your brow\\nHold tight\\nDon't let go\\nDon't you let me go\\n\\nAnd I never was smart with love\\nI let the bad ones in and the good ones go\\n\\nBut I'm gonna love you like I've never been hurt before\\nI'm gonna love you like I'm indestructible\\nYour love is ultramagnetic\\nAnd it's taking over\\nThis is hardcore\\nAnd I'm indestructible\\n\\nHands up in the air like we don't care\\nWe're shooting deep into space\\nAnd the lasers split the dark\\nCut right through the dark\\n\\nIt's just us. We ignore the crowd dancing\\nFall to the floor\\nBeats in my heart\\nPut your hands on my heart\\n\\nAnd I never was smart with love\\nI let the bad ones in and the good ones go\\n\\nBut I'm gonna love you like I've never been hurt before\\nI'm gonna love you like I'm indestructible\\nYour love is ultramagnetic\\nAnd it'...</td>\n",
       "      <td>0.070652</td>\n",
       "    </tr>\n",
       "    <tr>\n",
       "      <th>23</th>\n",
       "      <td>\"Indestructible (Acoustic Version)\"</td>\n",
       "      <td>I'm going backwards through time at the speed of light\\nI'm yours, you're mine, two satellites\\nNot alone\\nNo, we're not alone\\n\\nA freeze-frame of your eye in the strobelight\\nSweat dripping down from your brow, hold tight \\nDon't let go\\nDon't you let me go\\n\\nAnd I never was smart with love\\nI let the bad ones in and the good ones go\\nBut I'm gonna love you like I've never been hurt before\\nI'm gonna love you like I'm indestructible\\nYour love is ultra magnetic and it's taking over\\nThis is hardcore\\nAnd I'm indestructible\\n\\nHands up in the air like we don't care\\nWe're shooting deep into space\\nAnd the lasers split the dark\\nCut right through the dark\\n\\nIt's just us, we ignore the crowd dancing\\nFall to the floor\\nBeats in my heart\\nPut your hands on my heart\\n\\nAnd I never was smart with love\\nI let the bad ones in and the good ones go\\nBut I'm gonna love you like I've never been hurt before\\nI'm gonna love you like I'm indestructible\\nYour love is ultra magnetic and it's ta...</td>\n",
       "      <td>0.066298</td>\n",
       "    </tr>\n",
       "  </tbody>\n",
       "</table>\n",
       "</div>"
      ],
      "text/plain": [
       "                              song_name  \\\n",
       "21                       \"Love Is Free\"   \n",
       "73                     \"Indestructible\"   \n",
       "23  \"Indestructible (Acoustic Version)\"   \n",
       "\n",
       "                                                                                                                                                                                                                                                                                                                                                                                                                                                                                                                                                                                                                                                                                                                                                                                                                                                                                                                                                                                                                                       text  \\\n",
       "21  Free\\nLove is free, baby\\nFree\\nLove is free, baby\\nBoom boom boom boom boom chica boom\\nLet me give it to you, baby\\nChica boom chica boom chica boom\\nChica boom chica boom chica boom\\nFree\\nLove is free, baby\\nFree\\nLove is free, baby\\nBoom boom boom boom boom chica boom\\nLet me give it to you, baby\\n\\nI'ma give it to you, baby\\nI'ma give it when I'm ready\\nSome lose, some steady\\nSome light, some heavy\\nIt's all over this city\\nSometimes in the ugly, sometimes in the pretty\\nYou never know where you get it cause you can't control it and you can't unfold it, slow down\\n\\nI'ma give it to you, baby\\nI'ma give it when I'm ready\\nSome lose, some steady\\nSome light, some heavy\\nIt's all over this city\\nSometimes in the ugly, sometimes in the pretty\\nYou never know where you get it cause you can't control it and you can't unfold it, slow down\\n\\nFree\\nLove is free, baby\\nFree\\nLove is free, baby\\nBoom boom boom boom boom chica boom\\nLet me give it to you, baby\\nYeah! Yeah! Yeah! Yeah!\\...   \n",
       "73  I'm going backwards through time at the speed of light\\nI'm yours, you're mine\\nTwo satellites\\nNot alone\\nNo, we're not alone\\n\\nA freeze-frame of your eye in the strobe light\\nSweat dripping down from your brow\\nHold tight\\nDon't let go\\nDon't you let me go\\n\\nAnd I never was smart with love\\nI let the bad ones in and the good ones go\\n\\nBut I'm gonna love you like I've never been hurt before\\nI'm gonna love you like I'm indestructible\\nYour love is ultramagnetic\\nAnd it's taking over\\nThis is hardcore\\nAnd I'm indestructible\\n\\nHands up in the air like we don't care\\nWe're shooting deep into space\\nAnd the lasers split the dark\\nCut right through the dark\\n\\nIt's just us. We ignore the crowd dancing\\nFall to the floor\\nBeats in my heart\\nPut your hands on my heart\\n\\nAnd I never was smart with love\\nI let the bad ones in and the good ones go\\n\\nBut I'm gonna love you like I've never been hurt before\\nI'm gonna love you like I'm indestructible\\nYour love is ultramagnetic\\nAnd it'...   \n",
       "23  I'm going backwards through time at the speed of light\\nI'm yours, you're mine, two satellites\\nNot alone\\nNo, we're not alone\\n\\nA freeze-frame of your eye in the strobelight\\nSweat dripping down from your brow, hold tight \\nDon't let go\\nDon't you let me go\\n\\nAnd I never was smart with love\\nI let the bad ones in and the good ones go\\nBut I'm gonna love you like I've never been hurt before\\nI'm gonna love you like I'm indestructible\\nYour love is ultra magnetic and it's taking over\\nThis is hardcore\\nAnd I'm indestructible\\n\\nHands up in the air like we don't care\\nWe're shooting deep into space\\nAnd the lasers split the dark\\nCut right through the dark\\n\\nIt's just us, we ignore the crowd dancing\\nFall to the floor\\nBeats in my heart\\nPut your hands on my heart\\n\\nAnd I never was smart with love\\nI let the bad ones in and the good ones go\\nBut I'm gonna love you like I've never been hurt before\\nI'm gonna love you like I'm indestructible\\nYour love is ultra magnetic and it's ta...   \n",
       "\n",
       "    Bing_Liu_Score  \n",
       "21        0.178253  \n",
       "73        0.070652  \n",
       "23        0.066298  "
      ]
     },
     "execution_count": 23,
     "metadata": {},
     "output_type": "execute_result"
    }
   ],
   "source": [
    "#print the song name, lyrics and sentiment score of top 3 pos\n",
    "robyn_lyrics_top3.head(3)"
   ]
  },
  {
   "cell_type": "code",
   "execution_count": 24,
   "id": "7a126c1b",
   "metadata": {},
   "outputs": [
    {
     "data": {
      "text/html": [
       "<div>\n",
       "<style scoped>\n",
       "    .dataframe tbody tr th:only-of-type {\n",
       "        vertical-align: middle;\n",
       "    }\n",
       "\n",
       "    .dataframe tbody tr th {\n",
       "        vertical-align: top;\n",
       "    }\n",
       "\n",
       "    .dataframe thead th {\n",
       "        text-align: right;\n",
       "    }\n",
       "</style>\n",
       "<table border=\"1\" class=\"dataframe\">\n",
       "  <thead>\n",
       "    <tr style=\"text-align: right;\">\n",
       "      <th></th>\n",
       "      <th>song_name</th>\n",
       "      <th>text</th>\n",
       "      <th>Bing_Liu_Score</th>\n",
       "    </tr>\n",
       "  </thead>\n",
       "  <tbody>\n",
       "    <tr>\n",
       "      <th>75</th>\n",
       "      <td>\"Don't Fucking Tell Me What To Do\"</td>\n",
       "      <td>My drinking is killing me\\nMy drinking is killing me\\nMy drinking is killing me\\nMy drinking is killing me\\nMy drinking is killing me\\nMy drinking is killing me\\nMy drinking is killing me\\nMy drinking is killing me\\nMy drinking is killing me\\nMy drinking is killing me\\nMy drinking is killing me\\nMy drinking is killing me\\nMy drinking is killing me\\nMy drinking is killing me\\nMy drinking is killing me\\n\\nMy smoking is killing me\\nMy diet is killing me\\nMy heels are killing me\\nMy shopping's killing me\\nMy ego is killing me\\nCan't sleep, it's killing me\\nMy label's killing me\\nKickdrum\\n\\nMy phone is killing me\\nMy email is killing me\\nThese hours are killing me\\nMy tour is killing me\\nThis flight is killing me\\nMy manager's killing me\\nMy mother's killing me\\nMy landlord's killing me\\nMy boss is killing me\\nThe TV is killing me\\nYour nagging is killing me\\nMy boyfriend's killing me\\nMy talking's killing me\\nKilling me\\nKilling me\\n\\nCan't sleep, it's killing me\\nMy dreams are killin...</td>\n",
       "      <td>-0.171946</td>\n",
       "    </tr>\n",
       "    <tr>\n",
       "      <th>16</th>\n",
       "      <td>\"Criminal Intent\"</td>\n",
       "      <td>Somebody alert the authorities, I got criminal intent\\nConspiracy to engage in lewd and indecent acts and events\\nI'mma wind it, grind it, oh my, I'mma say it again\\nSomebody alert the authorities, she's got criminal intent\\n\\nSomebody alert the authorities, I got criminal intent\\nConspiracy to engage in lewd and indecent acts and events\\nI'mma wind it, grind it, oh my, I'mma say it again\\nSomebody alert the authorities, she's got criminal intent\\n\\nSomebody alert the authorities, I got criminal intent\\nConspiracy to engage in lewd and indecent acts and events\\nI'mma wind it, grind it, oh my, I'mma say it again\\nSomebody alert the authorities, I got criminal intent\\n\\n- Will the defendant please rise? State your full name for the record.\\n- Robyn\\n- Do you wish to say anything before the sentence is imposed?\\n- I do your Honor!\\n\\nYou know, from time to time\\nI need to get down\\nUnwind and just bump and grind\\nGet my shot on, have some fun\\nA little dirty never hurt anyone\\nI admit...</td>\n",
       "      <td>-0.101961</td>\n",
       "    </tr>\n",
       "    <tr>\n",
       "      <th>95</th>\n",
       "      <td>\"Crash And Burn Girl\"</td>\n",
       "      <td>I should write a song about you and all the shit that you do\\nYou don't even know what's up\\nBut soon it all comes crashing down on you\\nSince we're on the subject\\ntell me why your name's in the dictionary when I look up idiot\\nCheck yourself, it's very necessary\\n\\nGet up shake your rump girl\\nCause this track is for you\\nAnd baby this is not a love song\\n\\nStop listen what's that sound\\nSupersonic spinning round\\nYou don't mind the fall \\nuntil your face hits the ground\\n\\nCrash and burn girl\\ngoin' down down down down down\\nCrash and burn girl\\nYou don't mind the fall \\nuntil your face hits the ground\\n\\nYou should have a sticker on you saying Warning Keep Out\\nYou're the kind of girl that'll mess you up for life\\nthat's smashing up his car\\ncrying on his doorstep\\nwaiting in the rain all night\\nAnd did you tell him you're the kind that\\nnever show your ugly side until you sticking like glue\\nShit you even go down on him\\nthough he never do it for you\\nTime to clear the runway ...</td>\n",
       "      <td>-0.066869</td>\n",
       "    </tr>\n",
       "  </tbody>\n",
       "</table>\n",
       "</div>"
      ],
      "text/plain": [
       "                             song_name  \\\n",
       "75  \"Don't Fucking Tell Me What To Do\"   \n",
       "16                   \"Criminal Intent\"   \n",
       "95               \"Crash And Burn Girl\"   \n",
       "\n",
       "                                                                                                                                                                                                                                                                                                                                                                                                                                                                                                                                                                                                                                                                                                                                                                                                                                                                                                                                                                                                                                       text  \\\n",
       "75  My drinking is killing me\\nMy drinking is killing me\\nMy drinking is killing me\\nMy drinking is killing me\\nMy drinking is killing me\\nMy drinking is killing me\\nMy drinking is killing me\\nMy drinking is killing me\\nMy drinking is killing me\\nMy drinking is killing me\\nMy drinking is killing me\\nMy drinking is killing me\\nMy drinking is killing me\\nMy drinking is killing me\\nMy drinking is killing me\\n\\nMy smoking is killing me\\nMy diet is killing me\\nMy heels are killing me\\nMy shopping's killing me\\nMy ego is killing me\\nCan't sleep, it's killing me\\nMy label's killing me\\nKickdrum\\n\\nMy phone is killing me\\nMy email is killing me\\nThese hours are killing me\\nMy tour is killing me\\nThis flight is killing me\\nMy manager's killing me\\nMy mother's killing me\\nMy landlord's killing me\\nMy boss is killing me\\nThe TV is killing me\\nYour nagging is killing me\\nMy boyfriend's killing me\\nMy talking's killing me\\nKilling me\\nKilling me\\n\\nCan't sleep, it's killing me\\nMy dreams are killin...   \n",
       "16  Somebody alert the authorities, I got criminal intent\\nConspiracy to engage in lewd and indecent acts and events\\nI'mma wind it, grind it, oh my, I'mma say it again\\nSomebody alert the authorities, she's got criminal intent\\n\\nSomebody alert the authorities, I got criminal intent\\nConspiracy to engage in lewd and indecent acts and events\\nI'mma wind it, grind it, oh my, I'mma say it again\\nSomebody alert the authorities, she's got criminal intent\\n\\nSomebody alert the authorities, I got criminal intent\\nConspiracy to engage in lewd and indecent acts and events\\nI'mma wind it, grind it, oh my, I'mma say it again\\nSomebody alert the authorities, I got criminal intent\\n\\n- Will the defendant please rise? State your full name for the record.\\n- Robyn\\n- Do you wish to say anything before the sentence is imposed?\\n- I do your Honor!\\n\\nYou know, from time to time\\nI need to get down\\nUnwind and just bump and grind\\nGet my shot on, have some fun\\nA little dirty never hurt anyone\\nI admit...   \n",
       "95  I should write a song about you and all the shit that you do\\nYou don't even know what's up\\nBut soon it all comes crashing down on you\\nSince we're on the subject\\ntell me why your name's in the dictionary when I look up idiot\\nCheck yourself, it's very necessary\\n\\nGet up shake your rump girl\\nCause this track is for you\\nAnd baby this is not a love song\\n\\nStop listen what's that sound\\nSupersonic spinning round\\nYou don't mind the fall \\nuntil your face hits the ground\\n\\nCrash and burn girl\\ngoin' down down down down down\\nCrash and burn girl\\nYou don't mind the fall \\nuntil your face hits the ground\\n\\nYou should have a sticker on you saying Warning Keep Out\\nYou're the kind of girl that'll mess you up for life\\nthat's smashing up his car\\ncrying on his doorstep\\nwaiting in the rain all night\\nAnd did you tell him you're the kind that\\nnever show your ugly side until you sticking like glue\\nShit you even go down on him\\nthough he never do it for you\\nTime to clear the runway ...   \n",
       "\n",
       "    Bing_Liu_Score  \n",
       "75       -0.171946  \n",
       "16       -0.101961  \n",
       "95       -0.066869  "
      ]
     },
     "execution_count": 24,
     "metadata": {},
     "output_type": "execute_result"
    }
   ],
   "source": [
    "#dont fucking tell me what to do appears twice - this function keeps the first time it appears\n",
    "robyn_lyrics_bottom3 = robyn_lyrics_bottom3.drop_duplicates(keep='first')\n",
    "\n",
    "#print the song name, lyrics and sentiment score of top 3 negative\n",
    "robyn_lyrics_bottom3.head(3)"
   ]
  },
  {
   "cell_type": "markdown",
   "id": "b468bdda",
   "metadata": {},
   "source": [
    "`Note:` I'd just like to say that I listed to the \"Don't Fucking Tell Me What to Do\" song and it's great. "
   ]
  },
  {
   "cell_type": "markdown",
   "id": "2315c89e",
   "metadata": {},
   "source": [
    "##### Plot the sentiment distributions by each artist"
   ]
  },
  {
   "cell_type": "code",
   "execution_count": 25,
   "id": "579d7cc3",
   "metadata": {},
   "outputs": [
    {
     "data": {
      "text/plain": [
       "artist\n",
       "Cher     AxesSubplot(0.125,0.125;0.775x0.755)\n",
       "Robyn    AxesSubplot(0.125,0.125;0.775x0.755)\n",
       "Name: Bing_Liu_Score, dtype: object"
      ]
     },
     "execution_count": 25,
     "metadata": {},
     "output_type": "execute_result"
    },
    {
     "data": {
      "image/png": "[encoded data removed]",
      "text/plain": [
       "<Figure size 432x288 with 1 Axes>"
      ]
     },
     "metadata": {
      "needs_background": "light"
     },
     "output_type": "display_data"
    }
   ],
   "source": [
    "#create the artist column in both dataframes\n",
    "cher_lyrics['artist'] = 'Cher'\n",
    "robyn_lyrics['artist'] = 'Robyn'\n",
    "\n",
    "#create object with both artists lyrics\n",
    "frames = [cher_lyrics, robyn_lyrics]\n",
    "\n",
    "#append the dataframes together\n",
    "full_songs_df = pd.concat(frames)\n",
    "\n",
    "#create the histogram of sentiment score\n",
    "full_songs_df.groupby('artist')['Bing_Liu_Score'].plot(kind=\"hist\",density=True,alpha=0.5,legend=True, \n",
    "                                                       title = \"Sentiment Histogram by Artist\")"
   ]
  },
  {
   "cell_type": "markdown",
   "id": "2862c87a",
   "metadata": {},
   "source": [
    "The two artists have very simiar districutions, however, it appears that on the negaive end, Robyn has some very negative songs, which is likely why their mean score is lower. "
   ]
  },
  {
   "cell_type": "markdown",
   "id": "b3fe644d",
   "metadata": {},
   "source": [
    "## Sentiment Analysis on Twitter Descriptions\n",
    "\n",
    "In this section, define two sets of emojis you designate as positive and negative. Make sure to have at least 10 emojis per set. You can learn about the most popular emojis on Twitter at [the emojitracker](https://emojitracker.com/). \n",
    "\n",
    "Associate your positive emojis with a score of +1, negative with -1. Score the average sentiment of your two artists based on the Twitter descriptions of their followers. The average sentiment can just be the total score divided by number of followers. You do not need to calculate sentiment on non-emoji content for this section."
   ]
  },
  {
   "cell_type": "code",
   "execution_count": 26,
   "id": "7df83b92",
   "metadata": {},
   "outputs": [],
   "source": [
    "keep_columns = ['description']\n",
    "\n",
    "#assign the keep columns to keep only the descriptions column\n",
    "cher_desc = cher_twitter[keep_columns]\n",
    "robyn_desc = robyn_twitter[keep_columns]\n",
    "#cher_desc.head()"
   ]
  },
  {
   "cell_type": "code",
   "execution_count": 27,
   "id": "56f00d78",
   "metadata": {},
   "outputs": [],
   "source": [
    "#positive and negative emoji lists\n",
    "pos_emoji = ['😘','😍','😊','💕','🙏','💯','☺️','👌🏼','😎','❤️']\n",
    "neg_emoji = ['😔','😒','😩','💔','😢','😑','😕','😤','🙁','☹️']\n",
    "\n",
    "#create the positive/negative df's\n",
    "df_pos = pd.DataFrame()\n",
    "df_neg = pd.DataFrame()\n",
    "\n",
    "#iterate through the list and add emojis to df with sentiment\n",
    "for element in pos_emoji:\n",
    "    data = {'element': element, 'sentiment': 1}\n",
    "    df_pos = df_pos.append(data, ignore_index=True)\n",
    "\n",
    "for element in neg_emoji:\n",
    "    data = {'element': element, 'sentiment': -1}\n",
    "    df_neg = df_neg.append(data, ignore_index=True)\n",
    "\n",
    "#df_pos.head()\n",
    "#df_neg.head()    "
   ]
  },
  {
   "cell_type": "code",
   "execution_count": 28,
   "id": "1a5c1d25",
   "metadata": {},
   "outputs": [],
   "source": [
    "#calculate the sentiment score\n",
    "#create the pos and neg scores w/ word dictionary\n",
    "pos_score = 1\n",
    "neg_score = -1\n",
    "emoji_dict = {}\n",
    "\n",
    "#positive word function\n",
    "#for word in opinion_lexicon.positive(): #calls library directly\n",
    "for emoji in df_pos['element']:\n",
    "    emoji_dict[emoji] = pos_score\n",
    "\n",
    "#negative word function\n",
    "#for word in opinion_lexicon.negative(): #calls library directly\n",
    "for emoji in df_neg['element']:\n",
    "    emoji_dict[emoji] = neg_score\n",
    "\n",
    "#create the sentiment function for emojis\n",
    "def emoji_score(text):\n",
    "    sentiment_score = 0 \n",
    "    \n",
    "    bag_of_words = word_tokenize(text.lower())  \n",
    "    for word in bag_of_words:\n",
    "        if type(word) == 'NoneType':\n",
    "            pass\n",
    "        else:\n",
    "            if word in emoji_dict:\n",
    "                sentiment_score += emoji_dict[word]\n",
    "    return sentiment_score / len(bag_of_words) if len(bag_of_words) else 0"
   ]
  },
  {
   "cell_type": "code",
   "execution_count": 29,
   "id": "b7b1cec6",
   "metadata": {},
   "outputs": [
    {
     "name": "stderr",
     "output_type": "stream",
     "text": [
      "<ipython-input-29-e714ec28c81d>:2: SettingWithCopyWarning: \n",
      "A value is trying to be set on a copy of a slice from a DataFrame\n",
      "\n",
      "See the caveats in the documentation: https://pandas.pydata.org/pandas-docs/stable/user_guide/indexing.html#returning-a-view-versus-a-copy\n",
      "  cher_desc.dropna(subset=['description'], inplace=True)\n",
      "<ipython-input-29-e714ec28c81d>:3: SettingWithCopyWarning: \n",
      "A value is trying to be set on a copy of a slice from a DataFrame\n",
      "\n",
      "See the caveats in the documentation: https://pandas.pydata.org/pandas-docs/stable/user_guide/indexing.html#returning-a-view-versus-a-copy\n",
      "  robyn_desc.dropna(subset=['description'], inplace=True)\n"
     ]
    }
   ],
   "source": [
    "# drop the rows with blank values in the \"text\" column\n",
    "cher_desc.dropna(subset=['description'], inplace=True)\n",
    "robyn_desc.dropna(subset=['description'], inplace=True)"
   ]
  },
  {
   "cell_type": "code",
   "execution_count": 30,
   "id": "73510d6e",
   "metadata": {},
   "outputs": [
    {
     "name": "stderr",
     "output_type": "stream",
     "text": [
      "<ipython-input-30-a44b6c45e3fc>:2: SettingWithCopyWarning: \n",
      "A value is trying to be set on a copy of a slice from a DataFrame.\n",
      "Try using .loc[row_indexer,col_indexer] = value instead\n",
      "\n",
      "See the caveats in the documentation: https://pandas.pydata.org/pandas-docs/stable/user_guide/indexing.html#returning-a-view-versus-a-copy\n",
      "  cher_desc['emoji_score'] = cher_desc['description'].apply(emoji_score)\n",
      "<ipython-input-30-a44b6c45e3fc>:3: SettingWithCopyWarning: \n",
      "A value is trying to be set on a copy of a slice from a DataFrame.\n",
      "Try using .loc[row_indexer,col_indexer] = value instead\n",
      "\n",
      "See the caveats in the documentation: https://pandas.pydata.org/pandas-docs/stable/user_guide/indexing.html#returning-a-view-versus-a-copy\n",
      "  robyn_desc['emoji_score'] = robyn_desc['description'].apply(emoji_score)\n"
     ]
    }
   ],
   "source": [
    "#apply the function to both description dataframes\n",
    "cher_desc['emoji_score'] = cher_desc['description'].apply(emoji_score)\n",
    "robyn_desc['emoji_score'] = robyn_desc['description'].apply(emoji_score)"
   ]
  },
  {
   "cell_type": "code",
   "execution_count": 31,
   "id": "7e0a8d91",
   "metadata": {},
   "outputs": [],
   "source": [
    "#filter the data frames to only have non-zero numbers\n",
    "cher_filtered = cher_desc[cher_desc['emoji_score'] != 0.0]\n",
    "robyn_filtered = robyn_desc[robyn_desc['emoji_score'] != 0.0]"
   ]
  },
  {
   "cell_type": "code",
   "execution_count": 32,
   "id": "3255f449",
   "metadata": {},
   "outputs": [
    {
     "name": "stdout",
     "output_type": "stream",
     "text": [
      "Cher avg emoji sentiment is: 0.12967758341194452\n",
      "Robyn avg emoji sentiment is: 0.13974511308039955\n"
     ]
    }
   ],
   "source": [
    "#print the avg sentiment score of both artists\n",
    "print(\"Cher avg emoji sentiment is:\", cher_filtered.loc[:,'emoji_score'].mean())\n",
    "print(\"Robyn avg emoji sentiment is:\", robyn_filtered.loc[:,'emoji_score'].mean())"
   ]
  },
  {
   "cell_type": "code",
   "execution_count": 64,
   "id": "d1661226",
   "metadata": {},
   "outputs": [],
   "source": [
    "#collect all emojis\n",
    "cher_strings = cher_filtered.description.tolist()\n",
    "robyn_string = robyn_filtered.description.tolist()\n",
    "\n",
    "#cher lists\n",
    "cher_pos_emojis = []\n",
    "cher_neg_emojis = []\n",
    "\n",
    "for element in cher_strings:\n",
    "    if element in pos_emoji:\n",
    "        cher_pos_emojis.append(element)\n",
    "    if element in neg_emoji:\n",
    "        cher_neg_emojis.append(element)\n",
    "\n",
    "#robyn lists\n",
    "robyn_pos_emojis = []\n",
    "robyn_neg_emojis = []\n",
    "\n",
    "for element in robyn_string:\n",
    "    if element in pos_emoji:\n",
    "        robyn_pos_emojis.append(element)\n",
    "    if element in neg_emoji:\n",
    "        robyn_neg_emojis.append(element)    "
   ]
  },
  {
   "cell_type": "code",
   "execution_count": 67,
   "id": "c0bf64dc",
   "metadata": {},
   "outputs": [
    {
     "name": "stdout",
     "output_type": "stream",
     "text": [
      "Cher most positive emoji: [('❤️', 485), ('😎', 212), ('😍', 113)]\n",
      "Cher most negative emoji: [('💔', 25), ('😔', 12), ('😑', 11)]\n",
      "Robyn most positive emoji: [('❤️', 46), ('😎', 16), ('☺️', 5)]\n",
      "Robyn most negative emoji: [('😑', 2), ('😒', 1), ('😩', 1)]\n"
     ]
    }
   ],
   "source": [
    "#create pos/neg lists by artist\n",
    "cher_pos_count = []\n",
    "cher_neg_count = []\n",
    "robyn_pos_count = []\n",
    "robyn_neg_count = []\n",
    "\n",
    "#count the pos/neg emoji lists and store in the counter\n",
    "cher_pos_count = Counter(cher_pos_emojis)\n",
    "cher_neg_count = Counter(cher_neg_emojis)\n",
    "robyn_pos_count = Counter(robyn_pos_emojis)\n",
    "robyn_neg_count = Counter(robyn_neg_emojis)\n",
    "\n",
    "#create the most commen (top 3 pos and negative emojis) by artists\n",
    "top_pos_cher = cher_pos_count.most_common(3)\n",
    "top_neg_cher = cher_neg_count.most_common(3)\n",
    "top_pos_robyn = robyn_pos_count.most_common(3)\n",
    "top_neg_robyn = robyn_neg_count.most_common(3)\n",
    "\n",
    "#print the final output of both Cher and Robyn pos and neg\n",
    "print(\"Cher most positive emoji:\" , top_pos_cher)\n",
    "print(\"Cher most negative emoji:\" , top_neg_cher)\n",
    "print(\"Robyn most positive emoji:\" , top_pos_robyn)\n",
    "print(\"Robyn most negative emoji:\" , top_neg_robyn)"
   ]
  },
  {
   "cell_type": "markdown",
   "id": "fb92eb93",
   "metadata": {},
   "source": [
    "Q: What is the average sentiment of your two artists? \n",
    "\n",
    "A:\n",
    "* Cher = 0.1296\n",
    "* Robyn = 0.1397\n",
    "\n",
    "Q: Which positive emoji is the most popular for each artist? Which negative emoji? \n",
    "\n",
    "A: \n",
    "`See the above output for the most popular positive and negative emoji by artist`\n",
    "\n"
   ]
  },
  {
   "cell_type": "code",
   "execution_count": null,
   "id": "1e5e4041",
   "metadata": {},
   "outputs": [],
   "source": [
    "\n",
    "\n"
   ]
  },
  {
   "cell_type": "code",
   "execution_count": null,
   "id": "7042bf4d",
   "metadata": {},
   "outputs": [],
   "source": []
  }
 ],
 "metadata": {
  "kernelspec": {
   "display_name": "Python 3",
   "language": "python",
   "name": "python3"
  },
  "language_info": {
   "codemirror_mode": {
    "name": "ipython",
    "version": 3
   },
   "file_extension": ".py",
   "mimetype": "text/x-python",
   "name": "python",
   "nbconvert_exporter": "python",
   "pygments_lexer": "ipython3",
   "version": "3.8.8"
  }
 },
 "nbformat": 4,
 "nbformat_minor": 5
}
